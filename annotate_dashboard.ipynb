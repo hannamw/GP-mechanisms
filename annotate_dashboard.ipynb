{
 "cells": [
  {
   "cell_type": "code",
   "execution_count": 2,
   "metadata": {},
   "outputs": [],
   "source": [
    "from functools import partial\n",
    "\n",
    "from IPython.display import display, HTML, IFrame\n",
    "from ipyannotations.generic import FreetextAnnotator\n",
    "from superintendent import Superintendent\n",
    "import jsonlines\n",
    "import torch"
   ]
  },
  {
   "cell_type": "code",
   "execution_count": 3,
   "metadata": {},
   "outputs": [],
   "source": [
    "model_name = 'pythia-70m-deduped' # name of the model according to neuronpedia\n",
    "existing_annotation_file = 'feature-circuits-gp/annotations/pythia_annotations_new.jsonl' # .jsonl file with existing annotations\n",
    "circuit_file = 'feature-circuits-gp/circuits/pythia-70m-deduped_NPZ_ambiguous_samelen_n24_aggnone_node0.1.pt' # .pt file with the circuit\n",
    "API_KEY = \"\"\n",
    "d = torch.load(circuit_file)"
   ]
  },
  {
   "cell_type": "code",
   "execution_count": 4,
   "metadata": {},
   "outputs": [],
   "source": [
    "annotations = {}\n",
    "\n",
    "if existing_annotation_file != '':\n",
    "    with jsonlines.open(existing_annotation_file) as reader:\n",
    "        for obj in reader:\n",
    "            annotations[obj['Name']] = obj['Annotation']\n",
    "\n",
    "def get_existing_annotation(feature_info):\n",
    "    if feature_info not in annotations:\n",
    "        return ''\n",
    "    return annotations[feature_info]\n"
   ]
  },
  {
   "cell_type": "code",
   "execution_count": 5,
   "metadata": {},
   "outputs": [],
   "source": [
    "def process_feature_info(feature_info, model):\n",
    "    if 'pythia' in model:\n",
    "        layer_info, feature = feature_info.split('/')\n",
    "        if layer_info == 'embed':\n",
    "            name = 'e-res-sm'\n",
    "        else:\n",
    "            comp, layer = layer_info.split('_')\n",
    "            comp = comp[:3]\n",
    "            name = f'{layer}-{comp}-sm'\n",
    "        return name, feature\n",
    "    elif 'gemma-2' in model:\n",
    "        layer_info, feature = feature_info.split('/')\n",
    "        if layer_info == 'embed':\n",
    "            raise ValueError('No embedding SAEs for Gemma')\n",
    "        else:\n",
    "            comp, layer = layer_info.split('_')\n",
    "            comp = comp[:3]\n",
    "            name = f'{layer}-gemmascope-{comp}-16k'\n",
    "        return name, feature\n",
    "\n",
    "def display_examples(feature_info, model):\n",
    "    sae_id, feature_idx = process_feature_info(feature_info, model)\n",
    "    url = f\"https://neuronpedia.org/{model}/{sae_id}/{feature_idx}?embed=true&embedexplanation=true&embedplots=true&embedtest=true&height=300\"\n",
    "    display(IFrame(url, width=800, height=400))\n",
    "    html = f'<span style=\"background-color:white; color:black\"><strong>Feature: </strong>{feature_info}</span></body>'\n",
    "    html += f'<span style=\"background-color:white; color:black\"><strong> Annotation: </strong>{get_existing_annotation(feature_info)}</span></body>'\n",
    "    display(HTML(html))\n",
    "    \n",
    "class DictSuperintendent(Superintendent):\n",
    "    def __init__(self, annotations, *args, **kwargs):\n",
    "        self.annotations = annotations\n",
    "        super().__init__(*args, **kwargs)\n",
    "\n",
    "    def _annotation_iterator(self):\n",
    "        \"\"\"The annotation loop.\"\"\"\n",
    "        self.children = [self.top_bar, self.labelling_widget]\n",
    "        self.progressbar.bar_style = \"\"\n",
    "        for id_, x in self.queue:\n",
    "\n",
    "            with self._render_hold_message(\"Loading...\"):\n",
    "                self.labelling_widget.display(x)\n",
    "            y = yield\n",
    "            if y is not None:\n",
    "                self.queue.submit(id_, y)\n",
    "                if y != '':\n",
    "                    self.annotations[x] = y\n",
    "            self.progressbar.value = self.queue.progress\n",
    "\n",
    "        yield self._render_finished()\n",
    "\n",
    "class FreeTextAnnotatorWithEnter(FreetextAnnotator):\n",
    "    # By default, this won't work because Shift + Enter is used to run cells in VSCode\n",
    "    # But if you change either your VSCode settings or the keys used here's it'll probably work\n",
    "    def _handle_keystroke(self, event):\n",
    "        if event[\"key\"] == \"Enter\" and event[\"shiftKey\"]:\n",
    "            self.data = self.freetext_widget.value[:-1]\n",
    "            super()._handle_keystroke(event)\n"
   ]
  },
  {
   "cell_type": "code",
   "execution_count": 6,
   "metadata": {},
   "outputs": [
    {
     "name": "stderr",
     "output_type": "stream",
     "text": [
      "/home/Ubuntu/miniconda3/envs/circuits/lib/python3.10/site-packages/superintendent/__init__.py:101: UserWarning: You are using an in-memory SQLite database. Even when labelling locally, it is recommended to use a persistend DB. You can try passing sqlite:///test.db.\n",
      "  warnings.warn(\n"
     ]
    },
    {
     "data": {
      "application/vnd.jupyter.widget-view+json": {
       "model_id": "9aad87ff80a2480cadb015150bd1d05c",
       "version_major": 2,
       "version_minor": 0
      },
      "text/plain": [
       "DictSuperintendent(children=(HBox(children=(HBox(children=(FloatProgress(value=0.0, description='Progress:', m…"
      ]
     },
     "execution_count": 6,
     "metadata": {},
     "output_type": "execute_result"
    }
   ],
   "source": [
    "thresh = 0.1\n",
    "flist = []\n",
    "for loc, nodes in d['nodes'].items():\n",
    "    _, features = torch.where(nodes.act.abs() > thresh)\n",
    "    for f in features:\n",
    "        flist.append(f\"{loc}/{f.item()}\")\n",
    "        \n",
    "flist = list(set(flist))\n",
    "# comment out if you'd like to re-annotate things for which you already have annotations\n",
    "flist = [x for x in flist if x not in annotations]\n",
    "\n",
    "annotator = FreeTextAnnotatorWithEnter(display_function=partial(display_examples, model=model_name), textbox_placeholder='Type your annotation here')\n",
    "data_labeller = DictSuperintendent(annotations, features=flist, labelling_widget=annotator,)\n",
    "\n",
    "data_labeller"
   ]
  },
  {
   "cell_type": "code",
   "execution_count": 8,
   "metadata": {},
   "outputs": [],
   "source": [
    "out_file = 'feature-circuits-gp/annotations/pythia_annotations_complete.jsonl'\n",
    "with jsonlines.open(out_file, 'w') as writer:\n",
    "    for key, value in annotations.items():\n",
    "        writer.write({'Name': key, 'Annotation': value})"
   ]
  },
  {
   "cell_type": "code",
   "execution_count": null,
   "metadata": {},
   "outputs": [],
   "source": []
  }
 ],
 "metadata": {
  "kernelspec": {
   "display_name": "circuits",
   "language": "python",
   "name": "python3"
  },
  "language_info": {
   "codemirror_mode": {
    "name": "ipython",
    "version": 3
   },
   "file_extension": ".py",
   "mimetype": "text/x-python",
   "name": "python",
   "nbconvert_exporter": "python",
   "pygments_lexer": "ipython3",
   "version": "3.10.13"
  }
 },
 "nbformat": 4,
 "nbformat_minor": 2
}
